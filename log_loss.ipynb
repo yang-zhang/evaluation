{
 "cells": [
  {
   "cell_type": "markdown",
   "metadata": {},
   "source": [
    "- https://github.com/yang-zhang/ds-math/blob/master/log_loss.ipynb\n",
    "- https://github.com/yang-zhang/yang-zhang.github.io/blob/master/ds_math/entropy_mutual_information_kl_divergence.ipynb\n",
    "- https://en.wikipedia.org/wiki/Cross_entropy#Cross-entropy_error_function_and_logistic_regression"
   ]
  },
  {
   "cell_type": "code",
   "execution_count": 46,
   "metadata": {},
   "outputs": [],
   "source": [
    "%matplotlib inline\n",
    "import matplotlib.pyplot as plt\n"
   ]
  },
  {
   "cell_type": "code",
   "execution_count": 2,
   "metadata": {},
   "outputs": [],
   "source": [
    "import numpy as np\n",
    "import sklearn.metrics "
   ]
  },
  {
   "cell_type": "code",
   "execution_count": 104,
   "metadata": {},
   "outputs": [],
   "source": [
    "def log_loss_binary_scalar(y_true, y_pred, eps=1e-15):\n",
    "    if y_pred < eps:\n",
    "        y_pred = eps\n",
    "    elif y_pred > 1 - eps:\n",
    "        y_pred = 1 - eps\n",
    "    if y_true == 1:\n",
    "        return -np.log(y_pred)\n",
    "    else:\n",
    "        return -np.log(1 - y_pred)"
   ]
  },
  {
   "cell_type": "code",
   "execution_count": 105,
   "metadata": {},
   "outputs": [
    {
     "data": {
      "text/plain": [
       "(0.10536051565782628, 0.10536051565782628)"
      ]
     },
     "execution_count": 105,
     "metadata": {},
     "output_type": "execute_result"
    }
   ],
   "source": [
    "log_loss_binary_scalar(0, 0.1), sklearn.metrics.log_loss([0], [0.1], labels=(0, 1), eps=1e-15)"
   ]
  },
  {
   "cell_type": "code",
   "execution_count": 40,
   "metadata": {},
   "outputs": [
    {
     "data": {
      "text/plain": [
       "(0.10536051565782628, 0.10536051565782628)"
      ]
     },
     "execution_count": 40,
     "metadata": {},
     "output_type": "execute_result"
    }
   ],
   "source": [
    "log_loss_binary_scalar(1, 0.9), sklearn.metrics.log_loss([1], [0.9], labels=(0, 1), eps=1e-15)"
   ]
  },
  {
   "cell_type": "markdown",
   "metadata": {},
   "source": [
    "#### binary"
   ]
  },
  {
   "cell_type": "code",
   "execution_count": 21,
   "metadata": {},
   "outputs": [
    {
     "name": "stdout",
     "output_type": "stream",
     "text": [
      "Sklearn: 0.14462152754328741\n",
      "Ours: 0.14462152754328741\n"
     ]
    }
   ],
   "source": [
    "labels = [0, 1, 1]\n",
    "preds = [0.2, 0.9, 0.9]\n",
    "\n",
    "print(\"Sklearn:\", sklearn.metrics.log_loss(labels, preds, eps=1e-15))\n",
    "\n",
    "\n",
    "\n",
    "\n",
    "\n",
    "def log_loss(y_true, y_pred, eps=1e-15):\n",
    "    total_loss = 0.\n",
    "    n = 0.\n",
    "    for label, pred in zip(labels, preds):\n",
    "        if pred < eps:\n",
    "            pred = eps\n",
    "        elif pred > 1 - eps:\n",
    "            pred = 1 - eps\n",
    "        if label == 1:\n",
    "            total_loss += -np.log(pred)\n",
    "        else:\n",
    "            total_loss += -np.log(1 - pred)\n",
    "        n += 1\n",
    "    return total_loss / n\n",
    "\n",
    "print(\"Ours:\", log_loss(labels, preds))"
   ]
  },
  {
   "cell_type": "markdown",
   "metadata": {},
   "source": [
    "#### labels"
   ]
  },
  {
   "cell_type": "code",
   "execution_count": 22,
   "metadata": {},
   "outputs": [
    {
     "name": "stdout",
     "output_type": "stream",
     "text": [
      "Sklearn: 1.9560115027140732\n",
      "Ours: 1.9560115027140728\n"
     ]
    }
   ],
   "source": [
    "labels = [0, 1, 2, 0]\n",
    "preds = [[0.2, 0.8, 0.0], \n",
    "         [0.9, 0.05, 0.05], \n",
    "         [0.5, 0.1, 0.4],\n",
    "         [0.1, 0.1, 0.8]]\n",
    "\n",
    "print(\"Sklearn:\", sklearn.metrics.log_loss(labels, preds, eps=1e-15))\n",
    "\n",
    "def log_loss(y_true, y_pred, eps=1e-15):\n",
    "    total_loss = 0.\n",
    "    n = 0.\n",
    "    for label, ps in zip(labels, preds):\n",
    "        p = ps[label]\n",
    "        if p < eps:\n",
    "            p = eps\n",
    "        elif p > 1 - eps:\n",
    "            p = 1 - eps\n",
    "        total_loss += -np.log(p)\n",
    "        n += 1\n",
    "    return total_loss / n\n",
    "\n",
    "print(\"Ours:\", log_loss(labels, preds))"
   ]
  },
  {
   "cell_type": "code",
   "execution_count": 106,
   "metadata": {},
   "outputs": [],
   "source": [
    "def cross_entropy(p, q):\n",
    "    ce = 0.\n",
    "    for pi, qi in zip(p, q):\n",
    "        ce += -(pi * np.log(qi))\n",
    "    return ce\n",
    "\n",
    "def entropy(p):\n",
    "    p = np.array(p)\n",
    "    return sum(-p * np.log(p))\n",
    "\n",
    "def kl_divergence(p, q):\n",
    "    p, q = np.array(p), np.array(q)\n",
    "    sum_ = 0\n",
    "    for i, pi in enumerate(p):\n",
    "        if pi != 0:\n",
    "            sum_ += pi * np.log(pi/q[i])\n",
    "    return sum_"
   ]
  },
  {
   "cell_type": "code",
   "execution_count": 107,
   "metadata": {
    "scrolled": true
   },
   "outputs": [
    {
     "data": {
      "text/plain": [
       "(0.6931471805599453, 0.6931471805599453, 0.0)"
      ]
     },
     "execution_count": 107,
     "metadata": {},
     "output_type": "execute_result"
    }
   ],
   "source": [
    "p = [0.5, 0.5]\n",
    "q = [0.5, 0.5]\n",
    "cross_entropy(p, q), entropy(p), kl_divergence(p, q)"
   ]
  },
  {
   "cell_type": "code",
   "execution_count": 108,
   "metadata": {
    "scrolled": false
   },
   "outputs": [
    {
     "data": {
      "text/plain": [
       "(0.3250829733914482, 0.3250829733914482, 0.0)"
      ]
     },
     "execution_count": 108,
     "metadata": {},
     "output_type": "execute_result"
    }
   ],
   "source": [
    "p = [0.1, 0.9]\n",
    "q =  [0.1, 0.9]\n",
    "cross_entropy(p, q), entropy(p), kl_divergence(p, q)"
   ]
  },
  {
   "cell_type": "code",
   "execution_count": 109,
   "metadata": {},
   "outputs": [
    {
     "name": "stderr",
     "output_type": "stream",
     "text": [
      "/opt/conda/lib/python3.6/site-packages/ipykernel_launcher.py:4: RuntimeWarning: divide by zero encountered in log\n",
      "  after removing the cwd from sys.path.\n",
      "/opt/conda/lib/python3.6/site-packages/ipykernel_launcher.py:4: RuntimeWarning: invalid value encountered in double_scalars\n",
      "  after removing the cwd from sys.path.\n",
      "/opt/conda/lib/python3.6/site-packages/ipykernel_launcher.py:9: RuntimeWarning: divide by zero encountered in log\n",
      "  if __name__ == '__main__':\n",
      "/opt/conda/lib/python3.6/site-packages/ipykernel_launcher.py:9: RuntimeWarning: invalid value encountered in multiply\n",
      "  if __name__ == '__main__':\n"
     ]
    },
    {
     "data": {
      "text/plain": [
       "(nan, nan, 0.0)"
      ]
     },
     "execution_count": 109,
     "metadata": {},
     "output_type": "execute_result"
    }
   ],
   "source": [
    "p = [1, 0]\n",
    "q =  [1, 0]\n",
    "cross_entropy(p, q), entropy(p), kl_divergence(p, q)"
   ]
  },
  {
   "cell_type": "code",
   "execution_count": 111,
   "metadata": {},
   "outputs": [
    {
     "name": "stderr",
     "output_type": "stream",
     "text": [
      "/opt/conda/lib/python3.6/site-packages/ipykernel_launcher.py:9: RuntimeWarning: divide by zero encountered in log\n",
      "  if __name__ == '__main__':\n",
      "/opt/conda/lib/python3.6/site-packages/ipykernel_launcher.py:9: RuntimeWarning: invalid value encountered in multiply\n",
      "  if __name__ == '__main__':\n"
     ]
    },
    {
     "data": {
      "text/plain": [
       "(0.10536051565782628, nan, 0.10536051565782635)"
      ]
     },
     "execution_count": 111,
     "metadata": {},
     "output_type": "execute_result"
    }
   ],
   "source": [
    "p = [1, 0]\n",
    "q = [0.9, 0.1]\n",
    "cross_entropy(p, q), entropy(p), kl_divergence(p, q)"
   ]
  },
  {
   "cell_type": "code",
   "execution_count": 112,
   "metadata": {
    "scrolled": true
   },
   "outputs": [
    {
     "data": {
      "text/plain": [
       "0.10536051565782628"
      ]
     },
     "execution_count": 112,
     "metadata": {},
     "output_type": "execute_result"
    }
   ],
   "source": [
    "log_loss_binary_scalar(1, 0.9, eps=1e-15)"
   ]
  },
  {
   "cell_type": "code",
   "execution_count": 113,
   "metadata": {},
   "outputs": [
    {
     "data": {
      "image/png": "[encoded data removed]",
      "text/plain": [
       "<matplotlib.figure.Figure at 0x7f445d726b38>"
      ]
     },
     "metadata": {},
     "output_type": "display_data"
    }
   ],
   "source": [
    "ces = []\n",
    "ps = np.linspace(0.5, 1, num=10)\n",
    "for p in ps:\n",
    "    ces.append(cross_entropy([p, 1-p], [0.9, 0.1]))\n",
    "\n",
    "plt.plot(ps, ces, '.-')\n",
    "plt.plot(ps[-1], log_loss_binary_scalar(1, 0.9, eps=1e-15), 'xr')\n",
    "plt.grid()"
   ]
  },
  {
   "cell_type": "code",
   "execution_count": 114,
   "metadata": {},
   "outputs": [
    {
     "data": {
      "image/png": "[encoded data removed]",
      "text/plain": [
       "<matplotlib.figure.Figure at 0x7f445d748ef0>"
      ]
     },
     "metadata": {},
     "output_type": "display_data"
    }
   ],
   "source": [
    "ces = []\n",
    "eps = 1e-15\n",
    "ps = np.linspace(0.5, 1 - eps, num=10)\n",
    "for p in ps:\n",
    "    ces.append(cross_entropy([1, 0], [p, 1 - p]))\n",
    "\n",
    "plt.plot(ps, ces, '.-')\n",
    "plt.plot(ps[-1], log_loss_binary_scalar(1, 1 - eps, eps=1e-15), 'xr')\n",
    "plt.grid()"
   ]
  },
  {
   "cell_type": "markdown",
   "metadata": {},
   "source": [
    "### where does perfect, worse, and random baseline land?"
   ]
  },
  {
   "cell_type": "code",
   "execution_count": null,
   "metadata": {},
   "outputs": [],
   "source": []
  }
 ],
 "metadata": {
  "kernelspec": {
   "display_name": "Python 3",
   "language": "python",
   "name": "python3"
  },
  "language_info": {
   "codemirror_mode": {
    "name": "ipython",
    "version": 3
   },
   "file_extension": ".py",
   "mimetype": "text/x-python",
   "name": "python",
   "nbconvert_exporter": "python",
   "pygments_lexer": "ipython3",
   "version": "3.6.4"
  },
  "toc": {
   "base_numbering": 1,
   "nav_menu": {},
   "number_sections": true,
   "sideBar": true,
   "skip_h1_title": false,
   "title_cell": "Table of Contents",
   "title_sidebar": "Contents",
   "toc_cell": false,
   "toc_position": {},
   "toc_section_display": true,
   "toc_window_display": false
  }
 },
 "nbformat": 4,
 "nbformat_minor": 2
}
