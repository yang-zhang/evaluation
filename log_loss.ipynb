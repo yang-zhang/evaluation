{
 "cells": [
  {
   "cell_type": "markdown",
   "metadata": {},
   "source": [
    "- https://github.com/yang-zhang/ds-math/blob/master/log_loss.ipynb\n",
    "- https://github.com/yang-zhang/yang-zhang.github.io/blob/master/ds_math/entropy_mutual_information_kl_divergence.ipynb\n",
    "- https://en.wikipedia.org/wiki/Cross_entropy#Cross-entropy_error_function_and_logistic_regression"
   ]
  },
  {
   "cell_type": "code",
   "execution_count": 5,
   "metadata": {},
   "outputs": [],
   "source": [
    "%matplotlib inline\n",
    "import matplotlib.pyplot as plt\n",
    "\n",
    "import numpy as np\n",
    "import sklearn.metrics "
   ]
  },
  {
   "cell_type": "markdown",
   "metadata": {},
   "source": [
    "log_loss unit is in nats"
   ]
  },
  {
   "cell_type": "code",
   "execution_count": 6,
   "metadata": {},
   "outputs": [],
   "source": [
    "def log_loss_binary_scalar(y_true, y_pred, eps=1e-15):\n",
    "    if y_pred < eps:\n",
    "        y_pred = eps\n",
    "    elif y_pred > 1 - eps:\n",
    "        y_pred = 1 - eps\n",
    "    if y_true == 1:\n",
    "        return -np.log(y_pred)\n",
    "    else:\n",
    "        return -np.log(1 - y_pred)"
   ]
  },
  {
   "cell_type": "code",
   "execution_count": 7,
   "metadata": {},
   "outputs": [
    {
     "data": {
      "text/plain": [
       "(0.10536051565782628, 0.10536051565782628)"
      ]
     },
     "execution_count": 7,
     "metadata": {},
     "output_type": "execute_result"
    }
   ],
   "source": [
    "log_loss_binary_scalar(0, 0.1), sklearn.metrics.log_loss([0], [0.1], labels=(0, 1), eps=1e-15)"
   ]
  },
  {
   "cell_type": "code",
   "execution_count": 8,
   "metadata": {},
   "outputs": [
    {
     "data": {
      "text/plain": [
       "(0.10536051565782628, 0.10536051565782628)"
      ]
     },
     "execution_count": 8,
     "metadata": {},
     "output_type": "execute_result"
    }
   ],
   "source": [
    "log_loss_binary_scalar(1, 0.9), sklearn.metrics.log_loss([1], [0.9], labels=(0, 1), eps=1e-15)"
   ]
  },
  {
   "cell_type": "code",
   "execution_count": 9,
   "metadata": {},
   "outputs": [
    {
     "data": {
      "text/plain": [
       "(34.538776394910684, 34.538776394910684)"
      ]
     },
     "execution_count": 9,
     "metadata": {},
     "output_type": "execute_result"
    }
   ],
   "source": [
    "log_loss_binary_scalar(1, 0, eps=1e-15), sklearn.metrics.log_loss([1], [0], labels=(0, 1), eps=1e-15)"
   ]
  },
  {
   "cell_type": "code",
   "execution_count": 10,
   "metadata": {},
   "outputs": [
    {
     "data": {
      "text/plain": [
       "(23.025850929940457, 23.025850929940457)"
      ]
     },
     "execution_count": 10,
     "metadata": {},
     "output_type": "execute_result"
    }
   ],
   "source": [
    "log_loss_binary_scalar(1, 0, eps=1e-10), sklearn.metrics.log_loss([1], [0], labels=(0, 1), eps=1e-10)"
   ]
  },
  {
   "cell_type": "code",
   "execution_count": 11,
   "metadata": {},
   "outputs": [
    {
     "data": {
      "text/plain": [
       "(230.25850929940458, 230.25850929940458)"
      ]
     },
     "execution_count": 11,
     "metadata": {},
     "output_type": "execute_result"
    }
   ],
   "source": [
    "log_loss_binary_scalar(1, 0, eps=1e-100), sklearn.metrics.log_loss([1], [0], labels=(0, 1), eps=1e-100)"
   ]
  },
  {
   "cell_type": "markdown",
   "metadata": {},
   "source": [
    "### binary"
   ]
  },
  {
   "cell_type": "code",
   "execution_count": 12,
   "metadata": {},
   "outputs": [
    {
     "name": "stdout",
     "output_type": "stream",
     "text": [
      "Sklearn: 0.14462152754328741\n",
      "Ours: 0.14462152754328741\n"
     ]
    }
   ],
   "source": [
    "labels = [0, 1, 1]\n",
    "preds = [0.2, 0.9, 0.9]\n",
    "\n",
    "print(\"Sklearn:\", sklearn.metrics.log_loss(labels, preds, eps=1e-15))\n",
    "\n",
    "\n",
    "def log_loss(y_true, y_pred, eps=1e-15):\n",
    "    total_loss = 0.\n",
    "    n = 0.\n",
    "    for label, pred in zip(labels, preds):\n",
    "        if pred < eps:\n",
    "            pred = eps\n",
    "        elif pred > 1 - eps:\n",
    "            pred = 1 - eps\n",
    "        if label == 1:\n",
    "            total_loss += -np.log(pred)\n",
    "        else:\n",
    "            total_loss += -np.log(1 - pred)\n",
    "        n += 1\n",
    "    return total_loss / n\n",
    "\n",
    "print(\"Ours:\", log_loss(labels, preds))"
   ]
  },
  {
   "cell_type": "markdown",
   "metadata": {},
   "source": [
    "### labels"
   ]
  },
  {
   "cell_type": "code",
   "execution_count": 13,
   "metadata": {},
   "outputs": [
    {
     "name": "stdout",
     "output_type": "stream",
     "text": [
      "Sklearn: 1.9560115027140732\n",
      "Ours: 1.9560115027140728\n"
     ]
    }
   ],
   "source": [
    "labels = [0, 1, 2, 0]\n",
    "preds = [[0.2, 0.8, 0.0], \n",
    "         [0.9, 0.05, 0.05], \n",
    "         [0.5, 0.1, 0.4],\n",
    "         [0.1, 0.1, 0.8]]\n",
    "\n",
    "print(\"Sklearn:\", sklearn.metrics.log_loss(labels, preds, eps=1e-15))\n",
    "\n",
    "def log_loss(y_true, y_pred, eps=1e-15):\n",
    "    total_loss = 0.\n",
    "    n = 0.\n",
    "    for label, ps in zip(labels, preds):\n",
    "        p = ps[label]\n",
    "        if p < eps:\n",
    "            p = eps\n",
    "        elif p > 1 - eps:\n",
    "            p = 1 - eps\n",
    "        total_loss += -np.log(p)\n",
    "        n += 1\n",
    "    return total_loss / n\n",
    "\n",
    "print(\"Ours:\", log_loss(labels, preds))"
   ]
  },
  {
   "cell_type": "code",
   "execution_count": 14,
   "metadata": {},
   "outputs": [
    {
     "data": {
      "text/plain": [
       "array([-0.69314718, -0.69314718])"
      ]
     },
     "execution_count": 14,
     "metadata": {},
     "output_type": "execute_result"
    }
   ],
   "source": [
    "np.log([.5, .5])"
   ]
  },
  {
   "cell_type": "code",
   "execution_count": 15,
   "metadata": {},
   "outputs": [
    {
     "data": {
      "text/plain": [
       "array([-1.2039728 , -1.2039728 , -0.91629073])"
      ]
     },
     "execution_count": 15,
     "metadata": {},
     "output_type": "execute_result"
    }
   ],
   "source": [
    "np.log([.3, 0.3, 0.4])"
   ]
  },
  {
   "cell_type": "code",
   "execution_count": 16,
   "metadata": {},
   "outputs": [],
   "source": [
    "def cross_entropy(p, q):\n",
    "    ce = .0\n",
    "    for pi, qi in zip(p, q):\n",
    "        if qi > 0:\n",
    "            ce += -(pi * np.log(qi))\n",
    "    return ce\n",
    "\n",
    "def entropy(p):\n",
    "    p = np.array(p)\n",
    "    sum_ = .0\n",
    "    for pi in p:\n",
    "        if pi > 0:\n",
    "            sum_ += -pi * np.log(pi) \n",
    "    return sum_\n",
    "\n",
    "def kl_divergence(p, q):\n",
    "    p, q = np.array(p), np.array(q)\n",
    "    sum_ = 0\n",
    "    for i, pi in enumerate(p):\n",
    "        if pi != 0 and q[i] > 0:\n",
    "            sum_ += pi * np.log(pi/q[i])\n",
    "    return sum_"
   ]
  },
  {
   "cell_type": "code",
   "execution_count": 17,
   "metadata": {
    "scrolled": true
   },
   "outputs": [
    {
     "data": {
      "text/plain": [
       "(0.6931471805599453, 0.6931471805599453, 0.0)"
      ]
     },
     "execution_count": 17,
     "metadata": {},
     "output_type": "execute_result"
    }
   ],
   "source": [
    "p = [0.5, 0.5]\n",
    "q = [0.5, 0.5]\n",
    "cross_entropy(p, q), entropy(p), kl_divergence(p, q)"
   ]
  },
  {
   "cell_type": "code",
   "execution_count": 18,
   "metadata": {
    "scrolled": false
   },
   "outputs": [
    {
     "data": {
      "text/plain": [
       "(0.3250829733914482, 0.3250829733914482, 0.0, True)"
      ]
     },
     "execution_count": 18,
     "metadata": {},
     "output_type": "execute_result"
    }
   ],
   "source": [
    "p = [0.1, 0.9]\n",
    "q =  [0.1, 0.9]\n",
    "cross_entropy(p, q), entropy(p), kl_divergence(p, q), cross_entropy(p, q) == entropy(p) + kl_divergence(p, q)"
   ]
  },
  {
   "cell_type": "code",
   "execution_count": 19,
   "metadata": {
    "scrolled": false
   },
   "outputs": [
    {
     "data": {
      "text/plain": [
       "(0.3617729874261988, 0.3250829733914482, 0.036690014034750584, True)"
      ]
     },
     "execution_count": 19,
     "metadata": {},
     "output_type": "execute_result"
    }
   ],
   "source": [
    "p = [0.1, 0.9]\n",
    "q =  [0.2, 0.8]\n",
    "cross_entropy(p, q), entropy(p), kl_divergence(p, q), cross_entropy(p, q) == entropy(p) + kl_divergence(p, q)"
   ]
  },
  {
   "cell_type": "code",
   "execution_count": 20,
   "metadata": {},
   "outputs": [
    {
     "data": {
      "text/plain": [
       "(0.0, 0.0, 0.0, 9.992007221626415e-16, 9.992007221626415e-16)"
      ]
     },
     "execution_count": 20,
     "metadata": {},
     "output_type": "execute_result"
    }
   ],
   "source": [
    "p = [1, 0]\n",
    "q =  [1, 0]\n",
    "cross_entropy(p, q), entropy(p), kl_divergence(p, q), log_loss_binary_scalar(p[0], q[0], eps=1e-15), log_loss_binary_scalar(p[1], q[1], eps=1e-15)"
   ]
  },
  {
   "cell_type": "code",
   "execution_count": 21,
   "metadata": {},
   "outputs": [
    {
     "data": {
      "text/plain": [
       "(0.0, 0.0, 0, 34.538776394910684, 34.53957599234088)"
      ]
     },
     "execution_count": 21,
     "metadata": {},
     "output_type": "execute_result"
    }
   ],
   "source": [
    "p = [1, 0]\n",
    "q =  [0, 1]\n",
    "cross_entropy(p, q), entropy(p), kl_divergence(p, q), log_loss_binary_scalar(p[0], q[0], eps=1e-15), log_loss_binary_scalar(p[1], q[1], eps=1e-15)"
   ]
  },
  {
   "cell_type": "code",
   "execution_count": 22,
   "metadata": {},
   "outputs": [
    {
     "data": {
      "text/plain": [
       "(0.10536051565782628,\n",
       " 0.0,\n",
       " 0.10536051565782635,\n",
       " 0.10536051565782628,\n",
       " 0.10536051565782628)"
      ]
     },
     "execution_count": 22,
     "metadata": {},
     "output_type": "execute_result"
    }
   ],
   "source": [
    "p = [1, 0]\n",
    "q = [0.9, 0.1]\n",
    "cross_entropy(p, q), entropy(p), kl_divergence(p, q), log_loss_binary_scalar(p[0], q[0], eps=1e-15), log_loss_binary_scalar(p[1], q[1], eps=1e-15)"
   ]
  },
  {
   "cell_type": "code",
   "execution_count": 23,
   "metadata": {},
   "outputs": [
    {
     "data": {
      "text/plain": [
       "(0.0010005003335835344,\n",
       " 0.0,\n",
       " 0.001000500333583622,\n",
       " 0.0010005003335835344,\n",
       " 0.0010005003335835344)"
      ]
     },
     "execution_count": 23,
     "metadata": {},
     "output_type": "execute_result"
    }
   ],
   "source": [
    "p = [1, 0]\n",
    "q = [0.999, 0.001]\n",
    "cross_entropy(p, q), entropy(p), kl_divergence(p, q), log_loss_binary_scalar(p[0], q[0], eps=1e-15), log_loss_binary_scalar(p[1], q[1], eps=1e-15)"
   ]
  },
  {
   "cell_type": "code",
   "execution_count": 24,
   "metadata": {},
   "outputs": [
    {
     "data": {
      "image/png": "[encoded data removed]",
      "text/plain": [
       "<matplotlib.figure.Figure at 0x7fd9230554e0>"
      ]
     },
     "metadata": {},
     "output_type": "display_data"
    }
   ],
   "source": [
    "ces = []\n",
    "ps = np.linspace(0, 1, num=100)\n",
    "q = [0.9, 0.1]\n",
    "for p in ps:\n",
    "    ces.append(cross_entropy([p, 1-p], q))\n",
    "\n",
    "plt.plot(ps, ces, '.-')\n",
    "plt.plot(ps[-1], log_loss_binary_scalar(1, q[0], eps=1e-15), 'xr')\n",
    "plt.grid()"
   ]
  },
  {
   "cell_type": "markdown",
   "metadata": {},
   "source": [
    "where does perfect, worse, and random baseline land?"
   ]
  },
  {
   "cell_type": "code",
   "execution_count": 25,
   "metadata": {
    "scrolled": false
   },
   "outputs": [
    {
     "data": {
      "text/plain": [
       "9.992007221626415e-16"
      ]
     },
     "execution_count": 25,
     "metadata": {},
     "output_type": "execute_result"
    }
   ],
   "source": [
    "sklearn.metrics.log_loss([1, 0, 1], [1, 0, 1])"
   ]
  },
  {
   "cell_type": "code",
   "execution_count": 26,
   "metadata": {
    "scrolled": true
   },
   "outputs": [
    {
     "data": {
      "text/plain": [
       "34.53917619362578"
      ]
     },
     "execution_count": 26,
     "metadata": {},
     "output_type": "execute_result"
    }
   ],
   "source": [
    "sklearn.metrics.log_loss([1, 0], [0, 1])"
   ]
  },
  {
   "cell_type": "code",
   "execution_count": 27,
   "metadata": {},
   "outputs": [
    {
     "data": {
      "text/plain": [
       "34.53917619362577"
      ]
     },
     "execution_count": 27,
     "metadata": {},
     "output_type": "execute_result"
    }
   ],
   "source": [
    "sklearn.metrics.log_loss([1, 0]*200, [0, 1]*200)"
   ]
  },
  {
   "cell_type": "code",
   "execution_count": 28,
   "metadata": {},
   "outputs": [
    {
     "data": {
      "text/plain": [
       "3.541828511401901"
      ]
     },
     "execution_count": 28,
     "metadata": {},
     "output_type": "execute_result"
    }
   ],
   "source": [
    "np.log(34.53)"
   ]
  },
  {
   "cell_type": "code",
   "execution_count": 29,
   "metadata": {},
   "outputs": [
    {
     "data": {
      "text/plain": [
       "1e-10"
      ]
     },
     "execution_count": 29,
     "metadata": {},
     "output_type": "execute_result"
    }
   ],
   "source": [
    "x=10\n",
    "10**(-x)"
   ]
  },
  {
   "cell_type": "code",
   "execution_count": 30,
   "metadata": {
    "scrolled": false
   },
   "outputs": [
    {
     "data": {
      "image/png": "[encoded data removed]",
      "text/plain": [
       "<matplotlib.figure.Figure at 0x7fd923055ef0>"
      ]
     },
     "metadata": {},
     "output_type": "display_data"
    }
   ],
   "source": [
    "lls = []\n",
    "epses = [10**(-x) for x in range(10, 15)]\n",
    "for eps in epses:\n",
    "    lls.append(sklearn.metrics.log_loss([1, 0], [0, 1], eps=eps))\n",
    "plt.plot(lls, '.-')\n",
    "plt.xticks(range(len(lls)), epses)\n",
    "plt.xlabel('eps')\n",
    "plt.ylabel('log_loss')\n",
    "plt.title('log_loss of all wrong')\n",
    "plt.show()"
   ]
  },
  {
   "cell_type": "code",
   "execution_count": 31,
   "metadata": {
    "scrolled": false
   },
   "outputs": [
    {
     "data": {
      "image/png": "[encoded data removed]",
      "text/plain": [
       "<matplotlib.figure.Figure at 0x7fd920f4f4e0>"
      ]
     },
     "metadata": {},
     "output_type": "display_data"
    }
   ],
   "source": [
    "lls = []\n",
    "epses = [10**(-x) for x in range(10, 15)]\n",
    "for eps in epses:\n",
    "    lls.append(sklearn.metrics.log_loss([1, 0], [1, 0], eps=eps))\n",
    "plt.plot(lls, '.-')\n",
    "plt.xticks(range(len(lls)), epses)\n",
    "plt.title('log_loss of all right')\n",
    "plt.xlabel('eps')\n",
    "plt.ylabel('log_loss')\n",
    "plt.show()"
   ]
  },
  {
   "cell_type": "code",
   "execution_count": 32,
   "metadata": {
    "scrolled": false
   },
   "outputs": [
    {
     "data": {
      "image/png": "[encoded data removed]",
      "text/plain": [
       "<matplotlib.figure.Figure at 0x7fd920f140b8>"
      ]
     },
     "metadata": {},
     "output_type": "display_data"
    }
   ],
   "source": [
    "lls = []\n",
    "epses = [10**(-x) for x in range(10, 15)]\n",
    "for eps in epses:\n",
    "    lls.append(sklearn.metrics.log_loss([1, 0], [1, 0], eps=eps))\n",
    "plt.plot(np.log(lls), '.-')\n",
    "plt.xticks(range(len(lls)), epses)\n",
    "plt.title('log(log_loss) of all right')\n",
    "plt.xlabel('eps')\n",
    "plt.ylabel('log(log_loss)')\n",
    "plt.show()"
   ]
  },
  {
   "cell_type": "markdown",
   "metadata": {},
   "source": [
    "#### effect of very high scores"
   ]
  },
  {
   "cell_type": "code",
   "execution_count": 33,
   "metadata": {
    "scrolled": true
   },
   "outputs": [
    {
     "data": {
      "text/plain": [
       "4.605170185988091"
      ]
     },
     "execution_count": 33,
     "metadata": {},
     "output_type": "execute_result"
    }
   ],
   "source": [
    "pred = [0.01, 0.99]\n",
    "sklearn.metrics.log_loss([1, 0], pred), sklearn.metrics.log_loss([0, 1], pred)\n",
    "sklearn.metrics.log_loss([1, 0], pred)"
   ]
  },
  {
   "cell_type": "code",
   "execution_count": 34,
   "metadata": {
    "scrolled": true
   },
   "outputs": [
    {
     "data": {
      "text/plain": [
       "17.269388197455342"
      ]
     },
     "execution_count": 34,
     "metadata": {},
     "output_type": "execute_result"
    }
   ],
   "source": [
    "s1 = sklearn.metrics.log_loss([1], [0], labels=[0, 1])\n",
    "s2 = sklearn.metrics.log_loss([1], [1], labels=[0, 1])\n",
    "np.mean([s1, s2])"
   ]
  },
  {
   "cell_type": "code",
   "execution_count": 35,
   "metadata": {
    "scrolled": true
   },
   "outputs": [
    {
     "data": {
      "text/plain": [
       "2.307610260920796"
      ]
     },
     "execution_count": 35,
     "metadata": {},
     "output_type": "execute_result"
    }
   ],
   "source": [
    "s1 = sklearn.metrics.log_loss([1], [0.01], labels=[0, 1])\n",
    "s2 = sklearn.metrics.log_loss([1], [0.99], labels=[0, 1])\n",
    "np.mean([s1, s2])"
   ]
  },
  {
   "cell_type": "code",
   "execution_count": 36,
   "metadata": {
    "scrolled": true
   },
   "outputs": [
    {
     "data": {
      "text/plain": [
       "1.203972804325936"
      ]
     },
     "execution_count": 36,
     "metadata": {},
     "output_type": "execute_result"
    }
   ],
   "source": [
    "s1 = sklearn.metrics.log_loss([1], [0.1], labels=[0, 1])\n",
    "s2 = sklearn.metrics.log_loss([1], [0.9], labels=[0, 1])\n",
    "np.mean([s1, s2])"
   ]
  },
  {
   "cell_type": "code",
   "execution_count": 37,
   "metadata": {
    "scrolled": true
   },
   "outputs": [
    {
     "data": {
      "text/plain": [
       "0.916290731874155"
      ]
     },
     "execution_count": 37,
     "metadata": {},
     "output_type": "execute_result"
    }
   ],
   "source": [
    "s1 = sklearn.metrics.log_loss([1], [0.2], labels=[0, 1])\n",
    "s2 = sklearn.metrics.log_loss([1], [0.8], labels=[0, 1])\n",
    "np.mean([s1, s2])"
   ]
  },
  {
   "cell_type": "code",
   "execution_count": 38,
   "metadata": {
    "scrolled": true
   },
   "outputs": [
    {
     "data": {
      "text/plain": [
       "0.6931471805599453"
      ]
     },
     "execution_count": 38,
     "metadata": {},
     "output_type": "execute_result"
    }
   ],
   "source": [
    "s1 = sklearn.metrics.log_loss([1], [0.5], labels=[0, 1])\n",
    "s2 = sklearn.metrics.log_loss([1], [0.5], labels=[0, 1])\n",
    "np.mean([s1, s2])"
   ]
  },
  {
   "cell_type": "code",
   "execution_count": 39,
   "metadata": {},
   "outputs": [
    {
     "data": {
      "text/plain": [
       "8.63489399808522"
      ]
     },
     "execution_count": 39,
     "metadata": {},
     "output_type": "execute_result"
    }
   ],
   "source": [
    "sklearn.metrics.log_loss([1, 1, 1, 0], [1, 1, 1, 1])"
   ]
  },
  {
   "cell_type": "code",
   "execution_count": 40,
   "metadata": {
    "scrolled": true
   },
   "outputs": [
    {
     "data": {
      "text/plain": [
       "2.3076102609207965"
      ]
     },
     "execution_count": 40,
     "metadata": {},
     "output_type": "execute_result"
    }
   ],
   "source": [
    "sklearn.metrics.log_loss([1, 1, 1, 0], [0.99, 0.99, 0.01, 0.99])"
   ]
  },
  {
   "cell_type": "markdown",
   "metadata": {},
   "source": [
    "### not changing with number of label if conf per correct lable is the same "
   ]
  },
  {
   "cell_type": "code",
   "execution_count": 41,
   "metadata": {},
   "outputs": [
    {
     "data": {
      "text/plain": [
       "(0.10536051565782739, 0.10536051565782628, 0.10536051565782628)"
      ]
     },
     "execution_count": 41,
     "metadata": {},
     "output_type": "execute_result"
    }
   ],
   "source": [
    "from sklearn.metrics import log_loss\n",
    "\n",
    "log_loss([0, 1, 2],\n",
    "         [[.9, .1, .0], \n",
    "          [.0, .9, .1], \n",
    "          [.1, .0, .9]]), \\\n",
    "log_loss([0, 1, 1], \n",
    "         [[.9, .1], \n",
    "          [.1, .9], \n",
    "          [.1, .9]]), \\\n",
    "log_loss([0, 1, 2], \n",
    "         [[.9, .05, .05], \n",
    "          [.05, .9, .05], \n",
    "          [.05, .05, .9]])"
   ]
  },
  {
   "cell_type": "code",
   "execution_count": null,
   "metadata": {},
   "outputs": [],
   "source": []
  }
 ],
 "metadata": {
  "kernelspec": {
   "display_name": "Python 3",
   "language": "python",
   "name": "python3"
  },
  "language_info": {
   "codemirror_mode": {
    "name": "ipython",
    "version": 3
   },
   "file_extension": ".py",
   "mimetype": "text/x-python",
   "name": "python",
   "nbconvert_exporter": "python",
   "pygments_lexer": "ipython3",
   "version": "3.6.4"
  },
  "toc": {
   "base_numbering": 1,
   "nav_menu": {},
   "number_sections": true,
   "sideBar": true,
   "skip_h1_title": false,
   "title_cell": "Table of Contents",
   "title_sidebar": "Contents",
   "toc_cell": false,
   "toc_position": {},
   "toc_section_display": true,
   "toc_window_display": true
  }
 },
 "nbformat": 4,
 "nbformat_minor": 2
}
